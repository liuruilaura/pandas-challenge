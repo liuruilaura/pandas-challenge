# Dependencies and Setup
import pandas as pd
from pathlib import Path

# File to Load (Remember to Change These)
school_data_to_load = Path("Resources/schools_complete.csv")
student_data_to_load = Path("Resources/students_complete.csv")

# Read School and Student Data File and store into Pandas DataFrames
school_data = pd.read_csv(school_data_to_load)
student_data = pd.read_csv(student_data_to_load)
school_data.head()
student_data.head()


# Combine the data into a single dataset.  
school_data_complete = pd.merge(student_data, school_data, how="left", on=["school_name", "school_name"])
school_data_complete.head()



#Calculate the total number of schools
school_count = len(school_data_complete["school_name"].unique())


Calculate the total number of students

Calculate the total budget

Calculate the average maths score

Calculate the average reading score

Calculate the percentage of students with a passing maths score (50 or greater)

Calculate the percentage of students with a passing reading score (50 or greater)

Calculate the percentage of students who passed maths and reading (% Overall Passing)

Create a dataframe to hold the above results

Optional: give the displayed data cleaner formatting
